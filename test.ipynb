{
 "cells": [
  {
   "cell_type": "markdown",
   "id": "a0e2c35a-7dc8-4b64-9a34-44f3aefae5ca",
   "metadata": {},
   "source": [
    "# Hellow"
   ]
  },
  {
   "cell_type": "code",
   "execution_count": 1,
   "id": "3bc216e6-0fed-41dd-8067-0d9fc940ce34",
   "metadata": {},
   "outputs": [
    {
     "data": {
      "text/plain": [
       "10"
      ]
     },
     "execution_count": 1,
     "metadata": {},
     "output_type": "execute_result"
    }
   ],
   "source": [
    "x = 10\n",
    "x"
   ]
  },
  {
   "cell_type": "code",
   "execution_count": null,
   "id": "ab211c38-aa47-432d-8fa8-e68d37bde451",
   "metadata": {},
   "outputs": [],
   "source": []
  }
 ],
 "metadata": {
  "kernelspec": {
   "display_name": "Python (notebook)",
   "language": "python",
   "name": "notebook"
  },
  "language_info": {
   "codemirror_mode": {
    "name": "ipython",
    "version": 3
   },
   "file_extension": ".py",
   "mimetype": "text/x-python",
   "name": "python",
   "nbconvert_exporter": "python",
   "pygments_lexer": "ipython3",
   "version": "3.13.3"
  }
 },
 "nbformat": 4,
 "nbformat_minor": 5
}
