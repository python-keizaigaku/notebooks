{
 "cells": [
  {
   "cell_type": "markdown",
   "id": "772e0b46-dfb7-447b-a76b-675c0158b4ec",
   "metadata": {
    "id": "772e0b46-dfb7-447b-a76b-675c0158b4ec"
   },
   "source": [
    "# 14章：演習問題の解答"
   ]
  },
  {
   "cell_type": "code",
   "execution_count": 1,
   "id": "9de68a9b-5dea-4412-b057-10df617d0577",
   "metadata": {
    "colab": {
     "base_uri": "https://localhost:8080/"
    },
    "executionInfo": {
     "elapsed": 18769,
     "status": "ok",
     "timestamp": 1751099674020,
     "user": {
      "displayName": "T Haruyama",
      "userId": "09851044792665346893"
     },
     "user_tz": -540
    },
    "id": "9de68a9b-5dea-4412-b057-10df617d0577",
    "outputId": "94a9922d-5dd1-471f-88de-334f9c127df8"
   },
   "outputs": [
    {
     "name": "stdout",
     "output_type": "stream",
     "text": [
      "\u001b[?25l     \u001b[90m━━━━━━━━━━━━━━━━━━━━━━━━━━━━━━━━━━━━━━━━\u001b[0m \u001b[32m0.0/4.1 MB\u001b[0m \u001b[31m?\u001b[0m eta \u001b[36m-:--:--\u001b[0m\r",
      "\u001b[2K     \u001b[91m━━━\u001b[0m\u001b[90m╺\u001b[0m\u001b[90m━━━━━━━━━━━━━━━━━━━━━━━━━━━━━━━━━━━━\u001b[0m \u001b[32m0.3/4.1 MB\u001b[0m \u001b[31m8.0 MB/s\u001b[0m eta \u001b[36m0:00:01\u001b[0m\r",
      "\u001b[2K     \u001b[91m━━━━━━━━━━━━━\u001b[0m\u001b[90m╺\u001b[0m\u001b[90m━━━━━━━━━━━━━━━━━━━━━━━━━━\u001b[0m \u001b[32m1.4/4.1 MB\u001b[0m \u001b[31m17.0 MB/s\u001b[0m eta \u001b[36m0:00:01\u001b[0m\r",
      "\u001b[2K     \u001b[91m━━━━━━━━━━━━━━━━━━━━━━━━━━━━━━━━\u001b[0m\u001b[91m╸\u001b[0m\u001b[90m━━━━━━━\u001b[0m \u001b[32m3.4/4.1 MB\u001b[0m \u001b[31m28.0 MB/s\u001b[0m eta \u001b[36m0:00:01\u001b[0m\r",
      "\u001b[2K     \u001b[91m━━━━━━━━━━━━━━━━━━━━━━━━━━━━━━━━━━━━━━━\u001b[0m\u001b[91m╸\u001b[0m \u001b[32m4.1/4.1 MB\u001b[0m \u001b[31m29.3 MB/s\u001b[0m eta \u001b[36m0:00:01\u001b[0m\r",
      "\u001b[2K     \u001b[90m━━━━━━━━━━━━━━━━━━━━━━━━━━━━━━━━━━━━━━━━\u001b[0m \u001b[32m4.1/4.1 MB\u001b[0m \u001b[31m23.2 MB/s\u001b[0m eta \u001b[36m0:00:00\u001b[0m\n",
      "\u001b[?25h  Preparing metadata (setup.py) ... \u001b[?25l\u001b[?25hdone\n",
      "  Building wheel for japanize-matplotlib (setup.py) ... \u001b[?25l\u001b[?25hdone\n"
     ]
    }
   ],
   "source": [
    "%pip install -q japanize-matplotlib\n",
    "import japanize_matplotlib\n",
    "import numpy as np\n",
    "import matplotlib.pyplot as plt"
   ]
  },
  {
   "cell_type": "markdown",
   "id": "3cb86744-efd8-45c5-8b44-6796cfc74777",
   "metadata": {
    "id": "3cb86744-efd8-45c5-8b44-6796cfc74777"
   },
   "source": [
    "## 演習1"
   ]
  },
  {
   "cell_type": "markdown",
   "id": "6a611913-99e3-4317-b8a8-57f5a28dbe23",
   "metadata": {
    "id": "6a611913-99e3-4317-b8a8-57f5a28dbe23"
   },
   "source": [
    "### (1)"
   ]
  },
  {
   "cell_type": "code",
   "execution_count": 2,
   "id": "4fb8901f-5237-4040-9604-c331bd982396",
   "metadata": {
    "executionInfo": {
     "elapsed": 2,
     "status": "ok",
     "timestamp": 1751099674030,
     "user": {
      "displayName": "T Haruyama",
      "userId": "09851044792665346893"
     },
     "user_tz": -540
    },
    "id": "4fb8901f-5237-4040-9604-c331bd982396"
   },
   "outputs": [],
   "source": [
    "rng = np.random.default_rng()"
   ]
  },
  {
   "cell_type": "code",
   "execution_count": 3,
   "id": "a36e718f-4aeb-4119-970e-5e0aa03e9c11",
   "metadata": {
    "colab": {
     "base_uri": "https://localhost:8080/"
    },
    "executionInfo": {
     "elapsed": 5,
     "status": "ok",
     "timestamp": 1751099674081,
     "user": {
      "displayName": "T Haruyama",
      "userId": "09851044792665346893"
     },
     "user_tz": -540
    },
    "id": "a36e718f-4aeb-4119-970e-5e0aa03e9c11",
    "outputId": "b395f4ef-1424-47a6-ec4f-d17f945af086"
   },
   "outputs": [
    {
     "data": {
      "text/plain": [
       "array([1, 1, 1, 1, 1, 1, 1, 0, 0, 1])"
      ]
     },
     "execution_count": 3,
     "metadata": {},
     "output_type": "execute_result"
    }
   ],
   "source": [
    "rng.integers(0, 2, size=10)"
   ]
  },
  {
   "cell_type": "code",
   "execution_count": 4,
   "id": "1d441704-61db-4f71-92a0-650888e90e79",
   "metadata": {
    "colab": {
     "base_uri": "https://localhost:8080/"
    },
    "executionInfo": {
     "elapsed": 3,
     "status": "ok",
     "timestamp": 1751099674083,
     "user": {
      "displayName": "T Haruyama",
      "userId": "09851044792665346893"
     },
     "user_tz": -540
    },
    "id": "1d441704-61db-4f71-92a0-650888e90e79",
    "outputId": "f5fe4be7-9bb7-435d-95cf-2a81d5e5b71c"
   },
   "outputs": [
    {
     "data": {
      "text/plain": [
       "array([[1, 4, 4, 6, 6],\n",
       "       [1, 1, 6, 3, 1],\n",
       "       [5, 2, 3, 1, 5]])"
      ]
     },
     "execution_count": 4,
     "metadata": {},
     "output_type": "execute_result"
    }
   ],
   "source": [
    "rng.integers(1, 7, size=(3,5))"
   ]
  },
  {
   "cell_type": "markdown",
   "id": "a5daaf74-61f8-418c-8883-94348d3fbfb1",
   "metadata": {
    "id": "a5daaf74-61f8-418c-8883-94348d3fbfb1"
   },
   "source": [
    "### (2)"
   ]
  },
  {
   "cell_type": "code",
   "execution_count": 5,
   "id": "cee367cc-15ff-4a6e-a9cf-bf46f439389e",
   "metadata": {
    "colab": {
     "base_uri": "https://localhost:8080/"
    },
    "executionInfo": {
     "elapsed": 12,
     "status": "ok",
     "timestamp": 1751099674095,
     "user": {
      "displayName": "T Haruyama",
      "userId": "09851044792665346893"
     },
     "user_tz": -540
    },
    "id": "cee367cc-15ff-4a6e-a9cf-bf46f439389e",
    "outputId": "7d2d0016-a0f7-4c57-87ea-f37fc826a4a4"
   },
   "outputs": [
    {
     "data": {
      "text/plain": [
       "array([[1, 1, 5, 4, 5, 4, 6, 5, 6, 4, 6, 1, 6, 3, 5, 1, 1, 2, 4, 1],\n",
       "       [5, 3, 4, 6, 2, 2, 4, 3, 5, 3, 6, 5, 4, 2, 5, 2, 4, 6, 3, 2],\n",
       "       [2, 1, 3, 2, 1, 2, 6, 4, 1, 6, 5, 1, 2, 3, 2, 3, 4, 6, 4, 3],\n",
       "       [5, 1, 1, 4, 5, 5, 2, 5, 4, 5, 3, 6, 6, 1, 2, 6, 6, 1, 1, 4],\n",
       "       [3, 5, 6, 3, 6, 3, 5, 3, 3, 1, 6, 5, 2, 5, 6, 1, 4, 4, 1, 3],\n",
       "       [3, 3, 2, 1, 1, 4, 5, 6, 1, 4, 2, 5, 3, 6, 6, 4, 5, 3, 4, 6],\n",
       "       [6, 2, 1, 2, 2, 4, 3, 6, 5, 5, 2, 2, 3, 1, 4, 2, 5, 5, 3, 3],\n",
       "       [4, 2, 1, 2, 6, 6, 4, 3, 2, 1, 4, 4, 3, 1, 2, 3, 6, 2, 4, 6],\n",
       "       [5, 2, 2, 2, 3, 4, 3, 3, 5, 4, 1, 4, 4, 2, 5, 6, 4, 2, 3, 2],\n",
       "       [4, 3, 5, 3, 3, 5, 5, 2, 5, 3, 6, 6, 3, 6, 5, 4, 5, 6, 3, 3]])"
      ]
     },
     "execution_count": 5,
     "metadata": {},
     "output_type": "execute_result"
    }
   ],
   "source": [
    "rng.integers(1, 7, size=(10,20))"
   ]
  },
  {
   "cell_type": "markdown",
   "id": "114a37fc-9fa8-4b2b-88fc-6f83f87793c9",
   "metadata": {
    "id": "114a37fc-9fa8-4b2b-88fc-6f83f87793c9"
   },
   "source": [
    "### (3)"
   ]
  },
  {
   "cell_type": "code",
   "execution_count": 6,
   "id": "d9afe977-81b4-47b1-8399-ec135df0cffb",
   "metadata": {
    "executionInfo": {
     "elapsed": 5,
     "status": "ok",
     "timestamp": 1751099674101,
     "user": {
      "displayName": "T Haruyama",
      "userId": "09851044792665346893"
     },
     "user_tz": -540
    },
    "id": "d9afe977-81b4-47b1-8399-ec135df0cffb"
   },
   "outputs": [],
   "source": [
    "n, N = 30, 10_000\n",
    "coins = rng.integers(0, 2, size=(n,N))"
   ]
  },
  {
   "cell_type": "markdown",
   "id": "d2aa75bb-a574-4e10-a1e0-8067ef6db1e7",
   "metadata": {
    "id": "d2aa75bb-a574-4e10-a1e0-8067ef6db1e7"
   },
   "source": [
    "### (4)"
   ]
  },
  {
   "cell_type": "code",
   "execution_count": 7,
   "id": "5fb59070-0946-4d81-9e77-57284b27eeaf",
   "metadata": {
    "executionInfo": {
     "elapsed": 76,
     "status": "ok",
     "timestamp": 1751099674187,
     "user": {
      "displayName": "T Haruyama",
      "userId": "09851044792665346893"
     },
     "user_tz": -540
    },
    "id": "5fb59070-0946-4d81-9e77-57284b27eeaf"
   },
   "outputs": [],
   "source": [
    "avr = coins.mean(axis=0)"
   ]
  },
  {
   "cell_type": "markdown",
   "id": "aeea4c4c-4ebf-4b0a-96fe-f178fedceeeb",
   "metadata": {
    "id": "aeea4c4c-4ebf-4b0a-96fe-f178fedceeeb"
   },
   "source": [
    "### (5)"
   ]
  },
  {
   "cell_type": "code",
   "execution_count": 8,
   "id": "ee3d14dd-21c6-48b8-bf12-b177636539f7",
   "metadata": {
    "executionInfo": {
     "elapsed": 63,
     "status": "ok",
     "timestamp": 1751099674187,
     "user": {
      "displayName": "T Haruyama",
      "userId": "09851044792665346893"
     },
     "user_tz": -540
    },
    "id": "ee3d14dd-21c6-48b8-bf12-b177636539f7"
   },
   "outputs": [],
   "source": [
    "s_avr = ( avr - 0.5 ) / (0.5/n**0.5)"
   ]
  },
  {
   "cell_type": "markdown",
   "id": "8adf11dc-667c-484d-a8ec-6b1d7f9b3f93",
   "metadata": {
    "id": "8adf11dc-667c-484d-a8ec-6b1d7f9b3f93"
   },
   "source": [
    "### (6)"
   ]
  },
  {
   "cell_type": "code",
   "execution_count": 9,
   "id": "eac16311-b602-4c20-a813-175c278e6b01",
   "metadata": {
    "executionInfo": {
     "elapsed": 3,
     "status": "ok",
     "timestamp": 1751099674188,
     "user": {
      "displayName": "T Haruyama",
      "userId": "09851044792665346893"
     },
     "user_tz": -540
    },
    "id": "eac16311-b602-4c20-a813-175c278e6b01"
   },
   "outputs": [],
   "source": [
    "def clt(n=1000, N=100_000, seed=None):\n",
    "\n",
    "    np.random.default_rng(seed)\n",
    "    coins = rng.integers(0, 2, size=(n,N))\n",
    "    avr = coins.mean(axis=0)\n",
    "    s_avr = ( avr - 0.5 ) / (0.5/n**0.5)\n",
    "\n",
    "    return s_avr"
   ]
  },
  {
   "cell_type": "markdown",
   "id": "58075326-48c2-4417-a676-739fa495c567",
   "metadata": {
    "id": "58075326-48c2-4417-a676-739fa495c567"
   },
   "source": [
    "### (7)"
   ]
  },
  {
   "cell_type": "code",
   "execution_count": 10,
   "id": "gVNJnEUXaS2f",
   "metadata": {
    "colab": {
     "base_uri": "https://localhost:8080/"
    },
    "executionInfo": {
     "elapsed": 14215,
     "status": "ok",
     "timestamp": 1751099688401,
     "user": {
      "displayName": "T Haruyama",
      "userId": "09851044792665346893"
     },
     "user_tz": -540
    },
    "id": "gVNJnEUXaS2f",
    "outputId": "857cd1f8-cb47-4851-c8c0-5cce3566b9ec"
   },
   "outputs": [
    {
     "data": {
      "text/plain": [
       "array([ 1.13841996,  1.39140217, -1.20166551, ...,  1.26491106,\n",
       "        0.37947332, -2.15034881])"
      ]
     },
     "execution_count": 10,
     "metadata": {},
     "output_type": "execute_result"
    }
   ],
   "source": [
    "res = clt()\n",
    "res"
   ]
  },
  {
   "cell_type": "markdown",
   "id": "d8b4299e-8a65-45f7-98f3-bde0e39c8282",
   "metadata": {
    "id": "d8b4299e-8a65-45f7-98f3-bde0e39c8282"
   },
   "source": [
    "### (8)"
   ]
  },
  {
   "cell_type": "code",
   "execution_count": 11,
   "id": "477513be-3d98-4ebf-bb41-ea86a4be2e31",
   "metadata": {
    "colab": {
     "base_uri": "https://localhost:8080/"
    },
    "executionInfo": {
     "elapsed": 3,
     "status": "ok",
     "timestamp": 1751099688404,
     "user": {
      "displayName": "T Haruyama",
      "userId": "09851044792665346893"
     },
     "user_tz": -540
    },
    "id": "477513be-3d98-4ebf-bb41-ea86a4be2e31",
    "outputId": "008ef55d-e091-4212-912d-5ba9142cad85"
   },
   "outputs": [
    {
     "data": {
      "text/plain": [
       "array([-4.38178046, -4.01663209, -3.28633535, -2.92118697, -2.5560386 ,\n",
       "       -2.19089023, -1.82574186, -1.46059349, -1.09544512, -0.73029674,\n",
       "       -0.36514837,  0.        ,  0.36514837,  0.73029674,  1.09544512,\n",
       "        1.46059349,  1.82574186,  2.19089023,  2.5560386 ,  2.92118697,\n",
       "        3.28633535,  3.65148372])"
      ]
     },
     "execution_count": 11,
     "metadata": {},
     "output_type": "execute_result"
    }
   ],
   "source": [
    "np.unique(s_avr)"
   ]
  },
  {
   "cell_type": "markdown",
   "id": "Zv1byO8ta9LS",
   "metadata": {
    "id": "Zv1byO8ta9LS"
   },
   "source": [
    "### (9)"
   ]
  },
  {
   "cell_type": "code",
   "execution_count": 12,
   "id": "5b451094-1325-46e8-ac5b-31c260937895",
   "metadata": {
    "colab": {
     "base_uri": "https://localhost:8080/",
     "height": 429
    },
    "executionInfo": {
     "elapsed": 414,
     "status": "ok",
     "timestamp": 1751099688818,
     "user": {
      "displayName": "T Haruyama",
      "userId": "09851044792665346893"
     },
     "user_tz": -540
    },
    "id": "5b451094-1325-46e8-ac5b-31c260937895",
    "outputId": "43856a40-051f-4aae-816e-9806fdb1abcd"
   },
   "outputs": [
    {
     "data": {
      "image/png": "[encoded data removed]",
      "text/plain": [
       "<Figure size 640x480 with 1 Axes>"
      ]
     },
     "metadata": {},
     "output_type": "display_data"
    }
   ],
   "source": [
    "plt.hist(res, bins=np.unique(res), density=True)\n",
    "plt.show()"
   ]
  },
  {
   "cell_type": "markdown",
   "id": "d2b6a958-43ae-4063-9d1e-a37074b57489",
   "metadata": {
    "id": "d2b6a958-43ae-4063-9d1e-a37074b57489"
   },
   "source": [
    "## 演習2"
   ]
  },
  {
   "cell_type": "markdown",
   "id": "86c9c896-fcb6-41d8-b9c9-33be2f0e887a",
   "metadata": {
    "id": "86c9c896-fcb6-41d8-b9c9-33be2f0e887a"
   },
   "source": [
    "### (1)"
   ]
  },
  {
   "cell_type": "code",
   "execution_count": 13,
   "id": "1290e04e-191b-4165-98e0-850d7d1fbe4f",
   "metadata": {
    "colab": {
     "base_uri": "https://localhost:8080/"
    },
    "executionInfo": {
     "elapsed": 5,
     "status": "ok",
     "timestamp": 1751099688824,
     "user": {
      "displayName": "T Haruyama",
      "userId": "09851044792665346893"
     },
     "user_tz": -540
    },
    "id": "1290e04e-191b-4165-98e0-850d7d1fbe4f",
    "outputId": "4d794514-4897-4e2a-e349-1cf3085a3846"
   },
   "outputs": [
    {
     "data": {
      "text/plain": [
       "array([1, 2, 3, 4, 5, 6, 7, 8, 9])"
      ]
     },
     "execution_count": 13,
     "metadata": {},
     "output_type": "execute_result"
    }
   ],
   "source": [
    "np.arange(1, 10)"
   ]
  },
  {
   "cell_type": "code",
   "execution_count": 14,
   "id": "c49685ec-2c29-4fa1-930a-1cdb4401266a",
   "metadata": {
    "colab": {
     "base_uri": "https://localhost:8080/"
    },
    "executionInfo": {
     "elapsed": 4,
     "status": "ok",
     "timestamp": 1751099688836,
     "user": {
      "displayName": "T Haruyama",
      "userId": "09851044792665346893"
     },
     "user_tz": -540
    },
    "id": "c49685ec-2c29-4fa1-930a-1cdb4401266a",
    "outputId": "bef96cda-9257-480a-9880-5db76b211f10"
   },
   "outputs": [
    {
     "data": {
      "text/plain": [
       "array([ 0,  2,  4,  6,  8, 10])"
      ]
     },
     "execution_count": 14,
     "metadata": {},
     "output_type": "execute_result"
    }
   ],
   "source": [
    "np.arange(0, 11, 2)"
   ]
  },
  {
   "cell_type": "code",
   "execution_count": 15,
   "id": "7e661825-1f0b-4d5c-9465-86258cc7398b",
   "metadata": {
    "colab": {
     "base_uri": "https://localhost:8080/"
    },
    "executionInfo": {
     "elapsed": 6,
     "status": "ok",
     "timestamp": 1751099688843,
     "user": {
      "displayName": "T Haruyama",
      "userId": "09851044792665346893"
     },
     "user_tz": -540
    },
    "id": "7e661825-1f0b-4d5c-9465-86258cc7398b",
    "outputId": "ba35a9c8-496b-4fb8-c51c-78bfe2a6c398"
   },
   "outputs": [
    {
     "data": {
      "text/plain": [
       "array([-3, -2, -1,  0,  1,  2,  3])"
      ]
     },
     "execution_count": 15,
     "metadata": {},
     "output_type": "execute_result"
    }
   ],
   "source": [
    "np.arange(-3, 4)"
   ]
  },
  {
   "cell_type": "markdown",
   "id": "b4210048-6158-4b65-ba58-b8bde52442f3",
   "metadata": {
    "id": "b4210048-6158-4b65-ba58-b8bde52442f3"
   },
   "source": [
    "### (2)"
   ]
  },
  {
   "cell_type": "code",
   "execution_count": 16,
   "id": "e87ee896-485f-419b-9374-02f05d54f916",
   "metadata": {
    "colab": {
     "base_uri": "https://localhost:8080/"
    },
    "executionInfo": {
     "elapsed": 4,
     "status": "ok",
     "timestamp": 1751099688849,
     "user": {
      "displayName": "T Haruyama",
      "userId": "09851044792665346893"
     },
     "user_tz": -540
    },
    "id": "e87ee896-485f-419b-9374-02f05d54f916",
    "outputId": "a3f3b7d4-2477-47a7-f413-521a7000c655"
   },
   "outputs": [
    {
     "data": {
      "text/plain": [
       "[0, 1, 2, 3, 4, 5, 6, 7, 8, 9]"
      ]
     },
     "execution_count": 16,
     "metadata": {},
     "output_type": "execute_result"
    }
   ],
   "source": [
    "lst = list( range(10) )\n",
    "lst"
   ]
  },
  {
   "cell_type": "code",
   "execution_count": 17,
   "id": "5e8541f4-ac6d-4ae4-b144-b9d2f288c28f",
   "metadata": {
    "colab": {
     "base_uri": "https://localhost:8080/"
    },
    "executionInfo": {
     "elapsed": 11,
     "status": "ok",
     "timestamp": 1751099688870,
     "user": {
      "displayName": "T Haruyama",
      "userId": "09851044792665346893"
     },
     "user_tz": -540
    },
    "id": "5e8541f4-ac6d-4ae4-b144-b9d2f288c28f",
    "outputId": "0bf64d22-3d11-4e4b-9e38-784567b6b93c"
   },
   "outputs": [
    {
     "data": {
      "text/plain": [
       "array([ 0,  1,  3,  6, 10, 15, 21, 28, 36, 45])"
      ]
     },
     "execution_count": 17,
     "metadata": {},
     "output_type": "execute_result"
    }
   ],
   "source": [
    "np.cumsum(lst)"
   ]
  },
  {
   "cell_type": "code",
   "execution_count": 18,
   "id": "1713fd89-fac2-43c0-9fa3-071535a287e3",
   "metadata": {
    "colab": {
     "base_uri": "https://localhost:8080/"
    },
    "executionInfo": {
     "elapsed": 61,
     "status": "ok",
     "timestamp": 1751099688932,
     "user": {
      "displayName": "T Haruyama",
      "userId": "09851044792665346893"
     },
     "user_tz": -540
    },
    "id": "1713fd89-fac2-43c0-9fa3-071535a287e3",
    "outputId": "3bc4efeb-50fc-4c88-e37f-21368764a21a"
   },
   "outputs": [
    {
     "data": {
      "text/plain": [
       "array([1, 2, 3, 4, 5])"
      ]
     },
     "execution_count": 18,
     "metadata": {},
     "output_type": "execute_result"
    }
   ],
   "source": [
    "arr = np.arange(1, 6)\n",
    "arr"
   ]
  },
  {
   "cell_type": "code",
   "execution_count": 19,
   "id": "fae9bf62-6174-4177-90e0-0d589b67d357",
   "metadata": {
    "colab": {
     "base_uri": "https://localhost:8080/"
    },
    "executionInfo": {
     "elapsed": 2,
     "status": "ok",
     "timestamp": 1751099688935,
     "user": {
      "displayName": "T Haruyama",
      "userId": "09851044792665346893"
     },
     "user_tz": -540
    },
    "id": "fae9bf62-6174-4177-90e0-0d589b67d357",
    "outputId": "1c711358-f25c-4b7b-d367-4b5e93e96629"
   },
   "outputs": [
    {
     "data": {
      "text/plain": [
       "array([ 1,  3,  6, 10, 15])"
      ]
     },
     "execution_count": 19,
     "metadata": {},
     "output_type": "execute_result"
    }
   ],
   "source": [
    "np.cumsum(arr)"
   ]
  },
  {
   "cell_type": "markdown",
   "id": "f48a86c5-c70d-4ccc-8860-8b4a9dff4367",
   "metadata": {
    "id": "f48a86c5-c70d-4ccc-8860-8b4a9dff4367"
   },
   "source": [
    "### (3)"
   ]
  },
  {
   "cell_type": "code",
   "execution_count": 20,
   "id": "7b420bd1-2b21-45e4-9a05-1190c716aee1",
   "metadata": {
    "executionInfo": {
     "elapsed": 1,
     "status": "ok",
     "timestamp": 1751099688937,
     "user": {
      "displayName": "T Haruyama",
      "userId": "09851044792665346893"
     },
     "user_tz": -540
    },
    "id": "7b420bd1-2b21-45e4-9a05-1190c716aee1"
   },
   "outputs": [],
   "source": [
    "n = 100_000\n",
    "coins = rng.integers(0, 2, size=n)            # 0または1をN個生成\n",
    "cumulative_sum = np.cumsum(coins)             # coinsの累積和を計算\n",
    "avr_arr = cumulative_sum / np.arange(1, n+1)  # 各回の試行での平均を計算"
   ]
  },
  {
   "cell_type": "markdown",
   "id": "7493723c-4324-4ba7-8cf8-dd9442a1cf66",
   "metadata": {
    "id": "7493723c-4324-4ba7-8cf8-dd9442a1cf66"
   },
   "source": [
    "### (4)"
   ]
  },
  {
   "cell_type": "code",
   "execution_count": 21,
   "id": "c41cee9c-62f5-44db-ab25-7ab3e38c3bc3",
   "metadata": {
    "colab": {
     "base_uri": "https://localhost:8080/",
     "height": 470
    },
    "executionInfo": {
     "elapsed": 414,
     "status": "ok",
     "timestamp": 1751099689350,
     "user": {
      "displayName": "T Haruyama",
      "userId": "09851044792665346893"
     },
     "user_tz": -540
    },
    "id": "c41cee9c-62f5-44db-ab25-7ab3e38c3bc3",
    "outputId": "d05dade0-d37b-45d2-cb27-17918ef26904"
   },
   "outputs": [
    {
     "data": {
      "image/png": "[encoded data removed]",
      "text/plain": [
       "<Figure size 640x480 with 1 Axes>"
      ]
     },
     "metadata": {},
     "output_type": "display_data"
    }
   ],
   "source": [
    "m = 10000   # 除外する個数\n",
    "plt.plot(np.arange(1+m, n+1), avr_arr[m:])\n",
    "plt.axhline(0.5, color=\"red\", linestyle=\"--\")\n",
    "plt.xlabel(\"試行回数\")\n",
    "plt.ylabel(\"平均\")\n",
    "plt.title(\"大数の法則：シミュレーション2（NumPy版）\")\n",
    "plt.show()"
   ]
  },
  {
   "cell_type": "markdown",
   "id": "a6c0e3a0-e265-4cad-9234-8a9eb45e37fe",
   "metadata": {
    "id": "a6c0e3a0-e265-4cad-9234-8a9eb45e37fe"
   },
   "source": [
    "### (5)"
   ]
  },
  {
   "cell_type": "code",
   "execution_count": 22,
   "id": "ec7aa92c-b45f-421d-a8ca-07cedda97b57",
   "metadata": {
    "colab": {
     "base_uri": "https://localhost:8080/",
     "height": 470
    },
    "executionInfo": {
     "elapsed": 445,
     "status": "ok",
     "timestamp": 1751099689795,
     "user": {
      "displayName": "T Haruyama",
      "userId": "09851044792665346893"
     },
     "user_tz": -540
    },
    "id": "ec7aa92c-b45f-421d-a8ca-07cedda97b57",
    "outputId": "acc0d8d8-1dfc-4fd7-8f23-487b8c161ab0"
   },
   "outputs": [
    {
     "data": {
      "image/png": "[encoded data removed]",
      "text/plain": [
       "<Figure size 640x480 with 1 Axes>"
      ]
     },
     "metadata": {},
     "output_type": "display_data"
    }
   ],
   "source": [
    "def lln(n=100_000, m=10_000, seed=None):\n",
    "\n",
    "    if n-m >= 2:\n",
    "\n",
    "        rng = np.random.default_rng(seed=123)\n",
    "\n",
    "        coins = rng.integers(0, 2, size=n)\n",
    "        cumulative_sum = np.cumsum(coins)\n",
    "        avr_arr = cumulative_sum / np.arange(1, n+1)\n",
    "\n",
    "        plt.plot(np.arange(1+m, n+1), avr_arr[m:])\n",
    "        plt.axhline(0.5, color=\"red\", linestyle=\"--\")\n",
    "        plt.xlabel(\"試行回数\")\n",
    "        plt.ylabel(\"平均\")\n",
    "        plt.title(\"大数の法則：シミュレーション2（NumPy版）\")\n",
    "        plt.show()\n",
    "\n",
    "    else:\n",
    "        print(\"n-m>=2となるように設定してください。\")\n",
    "\n",
    "lln()"
   ]
  },
  {
   "cell_type": "code",
   "execution_count": 22,
   "id": "xXMJIz9fc5GF",
   "metadata": {
    "executionInfo": {
     "elapsed": 1,
     "status": "ok",
     "timestamp": 1751099689797,
     "user": {
      "displayName": "T Haruyama",
      "userId": "09851044792665346893"
     },
     "user_tz": -540
    },
    "id": "xXMJIz9fc5GF"
   },
   "outputs": [],
   "source": []
  }
 ],
 "metadata": {
  "colab": {
   "provenance": []
  },
  "kernelspec": {
   "display_name": "Python 3 (ipykernel)",
   "language": "python",
   "name": "python3"
  },
  "language_info": {
   "codemirror_mode": {
    "name": "ipython",
    "version": 3
   },
   "file_extension": ".py",
   "mimetype": "text/x-python",
   "name": "python",
   "nbconvert_exporter": "python",
   "pygments_lexer": "ipython3",
   "version": "3.13.3"
  }
 },
 "nbformat": 4,
 "nbformat_minor": 5
}
